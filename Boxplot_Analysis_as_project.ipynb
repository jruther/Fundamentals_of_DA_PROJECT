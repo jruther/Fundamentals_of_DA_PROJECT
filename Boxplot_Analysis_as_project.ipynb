{
 "cells": [
  {
   "cell_type": "markdown",
   "metadata": {},
   "source": [
    "### Boxplot Project"
   ]
  },
  {
   "cell_type": "markdown",
   "metadata": {},
   "source": [
    "Summarise the history of the box plot and situations in which it used.\n",
    "• Demonstrate the use of the box plot using data of your choosing.\n",
    "• Explain any relevant terminology such as the terms quartile and percentile.\n",
    "• Compare the box plot to alternatives."
   ]
  },
  {
   "cell_type": "code",
   "execution_count": 1,
   "metadata": {},
   "outputs": [],
   "source": [
    "import numpy as np\n",
    "import pandas as pd\n",
    "import matplotlib.pyplot as plt\n",
    "%matplotlib inline"
   ]
  },
  {
   "cell_type": "code",
   "execution_count": 2,
   "metadata": {},
   "outputs": [
    {
     "data": {
      "text/html": [
       "<div>\n",
       "<style scoped>\n",
       "    .dataframe tbody tr th:only-of-type {\n",
       "        vertical-align: middle;\n",
       "    }\n",
       "\n",
       "    .dataframe tbody tr th {\n",
       "        vertical-align: top;\n",
       "    }\n",
       "\n",
       "    .dataframe thead th {\n",
       "        text-align: right;\n",
       "    }\n",
       "</style>\n",
       "<table border=\"1\" class=\"dataframe\">\n",
       "  <thead>\n",
       "    <tr style=\"text-align: right;\">\n",
       "      <th></th>\n",
       "      <th>date</th>\n",
       "      <th>temp</th>\n",
       "    </tr>\n",
       "  </thead>\n",
       "  <tbody>\n",
       "    <tr>\n",
       "      <th>0</th>\n",
       "      <td>31-dec-2007 01:00</td>\n",
       "      <td></td>\n",
       "    </tr>\n",
       "    <tr>\n",
       "      <th>1</th>\n",
       "      <td>31-dec-2007 02:00</td>\n",
       "      <td></td>\n",
       "    </tr>\n",
       "    <tr>\n",
       "      <th>2</th>\n",
       "      <td>31-dec-2007 03:00</td>\n",
       "      <td></td>\n",
       "    </tr>\n",
       "    <tr>\n",
       "      <th>3</th>\n",
       "      <td>31-dec-2007 04:00</td>\n",
       "      <td></td>\n",
       "    </tr>\n",
       "    <tr>\n",
       "      <th>4</th>\n",
       "      <td>31-dec-2007 05:00</td>\n",
       "      <td></td>\n",
       "    </tr>\n",
       "  </tbody>\n",
       "</table>\n",
       "</div>"
      ],
      "text/plain": [
       "                date temp\n",
       "0  31-dec-2007 01:00     \n",
       "1  31-dec-2007 02:00     \n",
       "2  31-dec-2007 03:00     \n",
       "3  31-dec-2007 04:00     \n",
       "4  31-dec-2007 05:00     "
      ]
     },
     "execution_count": 2,
     "metadata": {},
     "output_type": "execute_result"
    }
   ],
   "source": [
    "#Let's have a look at the meteorological data from the Gurteen met station in Tipperary\n",
    "df = pd.read_csv(\"http://cli.met.ie/cli/climate_data/webdata/hly1475.csv\", skiprows=17, low_memory=False, usecols = [0,4])\n",
    "df.head()"
   ]
  },
  {
   "cell_type": "code",
   "execution_count": 3,
   "metadata": {},
   "outputs": [],
   "source": [
    "#Select the data range we are interested in;\n",
    "df = df.iloc[8087:16847]"
   ]
  },
  {
   "cell_type": "code",
   "execution_count": 4,
   "metadata": {},
   "outputs": [
    {
     "data": {
      "text/html": [
       "<div>\n",
       "<style scoped>\n",
       "    .dataframe tbody tr th:only-of-type {\n",
       "        vertical-align: middle;\n",
       "    }\n",
       "\n",
       "    .dataframe tbody tr th {\n",
       "        vertical-align: top;\n",
       "    }\n",
       "\n",
       "    .dataframe thead th {\n",
       "        text-align: right;\n",
       "    }\n",
       "</style>\n",
       "<table border=\"1\" class=\"dataframe\">\n",
       "  <thead>\n",
       "    <tr style=\"text-align: right;\">\n",
       "      <th></th>\n",
       "      <th>date</th>\n",
       "      <th>temp</th>\n",
       "    </tr>\n",
       "  </thead>\n",
       "  <tbody>\n",
       "    <tr>\n",
       "      <th>8087</th>\n",
       "      <td>01-jan-2009 00:00</td>\n",
       "      <td>3.2</td>\n",
       "    </tr>\n",
       "    <tr>\n",
       "      <th>8088</th>\n",
       "      <td>01-jan-2009 01:00</td>\n",
       "      <td>3.1</td>\n",
       "    </tr>\n",
       "    <tr>\n",
       "      <th>8089</th>\n",
       "      <td>01-jan-2009 02:00</td>\n",
       "      <td>3.3</td>\n",
       "    </tr>\n",
       "    <tr>\n",
       "      <th>8090</th>\n",
       "      <td>01-jan-2009 03:00</td>\n",
       "      <td>3.3</td>\n",
       "    </tr>\n",
       "    <tr>\n",
       "      <th>8091</th>\n",
       "      <td>01-jan-2009 04:00</td>\n",
       "      <td>0.0</td>\n",
       "    </tr>\n",
       "  </tbody>\n",
       "</table>\n",
       "</div>"
      ],
      "text/plain": [
       "                   date temp\n",
       "8087  01-jan-2009 00:00  3.2\n",
       "8088  01-jan-2009 01:00  3.1\n",
       "8089  01-jan-2009 02:00  3.3\n",
       "8090  01-jan-2009 03:00  3.3\n",
       "8091  01-jan-2009 04:00  0.0"
      ]
     },
     "execution_count": 4,
     "metadata": {},
     "output_type": "execute_result"
    }
   ],
   "source": [
    "#To check the correct starting time for our analysis use;\n",
    "df.head()"
   ]
  },
  {
   "cell_type": "code",
   "execution_count": 5,
   "metadata": {},
   "outputs": [
    {
     "data": {
      "text/html": [
       "<div>\n",
       "<style scoped>\n",
       "    .dataframe tbody tr th:only-of-type {\n",
       "        vertical-align: middle;\n",
       "    }\n",
       "\n",
       "    .dataframe tbody tr th {\n",
       "        vertical-align: top;\n",
       "    }\n",
       "\n",
       "    .dataframe thead th {\n",
       "        text-align: right;\n",
       "    }\n",
       "</style>\n",
       "<table border=\"1\" class=\"dataframe\">\n",
       "  <thead>\n",
       "    <tr style=\"text-align: right;\">\n",
       "      <th></th>\n",
       "      <th>date</th>\n",
       "      <th>temp</th>\n",
       "    </tr>\n",
       "  </thead>\n",
       "  <tbody>\n",
       "    <tr>\n",
       "      <th>16842</th>\n",
       "      <td>31-dec-2009 19:00</td>\n",
       "      <td>-1.3</td>\n",
       "    </tr>\n",
       "    <tr>\n",
       "      <th>16843</th>\n",
       "      <td>31-dec-2009 20:00</td>\n",
       "      <td>-1.5</td>\n",
       "    </tr>\n",
       "    <tr>\n",
       "      <th>16844</th>\n",
       "      <td>31-dec-2009 21:00</td>\n",
       "      <td>-1.6</td>\n",
       "    </tr>\n",
       "    <tr>\n",
       "      <th>16845</th>\n",
       "      <td>31-dec-2009 22:00</td>\n",
       "      <td>-1.4</td>\n",
       "    </tr>\n",
       "    <tr>\n",
       "      <th>16846</th>\n",
       "      <td>31-dec-2009 23:00</td>\n",
       "      <td>-3.9</td>\n",
       "    </tr>\n",
       "  </tbody>\n",
       "</table>\n",
       "</div>"
      ],
      "text/plain": [
       "                    date  temp\n",
       "16842  31-dec-2009 19:00  -1.3\n",
       "16843  31-dec-2009 20:00  -1.5\n",
       "16844  31-dec-2009 21:00  -1.6\n",
       "16845  31-dec-2009 22:00  -1.4\n",
       "16846  31-dec-2009 23:00  -3.9"
      ]
     },
     "execution_count": 5,
     "metadata": {},
     "output_type": "execute_result"
    }
   ],
   "source": [
    "#To check the ending time for our analysis;\n",
    "df.tail()"
   ]
  },
  {
   "cell_type": "code",
   "execution_count": 6,
   "metadata": {},
   "outputs": [
    {
     "data": {
      "text/plain": [
       "date    object\n",
       "temp    object\n",
       "dtype: object"
      ]
     },
     "execution_count": 6,
     "metadata": {},
     "output_type": "execute_result"
    }
   ],
   "source": [
    "#Now we can see the data, we need to know what datatypes we are dealing with.\n",
    "df.dtypes"
   ]
  },
  {
   "cell_type": "code",
   "execution_count": 7,
   "metadata": {},
   "outputs": [
    {
     "data": {
      "text/plain": [
       "8087   2009-01-01 00:00:00\n",
       "8088   2009-01-01 01:00:00\n",
       "8089   2009-01-01 02:00:00\n",
       "8090   2009-01-01 03:00:00\n",
       "8091   2009-01-01 04:00:00\n",
       "Name: Datetime, dtype: datetime64[ns]"
      ]
     },
     "execution_count": 7,
     "metadata": {},
     "output_type": "execute_result"
    }
   ],
   "source": [
    "#We are interested in the date and temperature columns, however they are 'object' type data, so we must convert to relevant data form.\n",
    "df['Datetime'] = pd.to_datetime(df['date'])\n",
    "df1 = df['Datetime']\n",
    "\n",
    "df1.head()"
   ]
  },
  {
   "cell_type": "code",
   "execution_count": 8,
   "metadata": {},
   "outputs": [
    {
     "data": {
      "text/plain": [
       "date                object\n",
       "temp                object\n",
       "Datetime    datetime64[ns]\n",
       "dtype: object"
      ]
     },
     "execution_count": 8,
     "metadata": {},
     "output_type": "execute_result"
    }
   ],
   "source": [
    "df.dtypes"
   ]
  },
  {
   "cell_type": "code",
   "execution_count": 9,
   "metadata": {},
   "outputs": [
    {
     "data": {
      "text/plain": [
       "8087    3.2\n",
       "8088    3.1\n",
       "8089    3.3\n",
       "8090    3.3\n",
       "8091    0.0\n",
       "Name: temp, dtype: object"
      ]
     },
     "execution_count": 9,
     "metadata": {},
     "output_type": "execute_result"
    }
   ],
   "source": [
    "df['temp'].head()"
   ]
  },
  {
   "cell_type": "code",
   "execution_count": 10,
   "metadata": {},
   "outputs": [],
   "source": [
    "T = df['temp']"
   ]
  },
  {
   "cell_type": "code",
   "execution_count": 11,
   "metadata": {},
   "outputs": [],
   "source": [
    "df2 = pd.to_numeric(T, errors = 'coerce')"
   ]
  },
  {
   "cell_type": "code",
   "execution_count": 12,
   "metadata": {},
   "outputs": [
    {
     "data": {
      "text/plain": [
       "8087     3.2\n",
       "8088     3.1\n",
       "8089     3.3\n",
       "8090     3.3\n",
       "8091     0.0\n",
       "8092     0.6\n",
       "8093     2.3\n",
       "8094     0.7\n",
       "8095     3.8\n",
       "8096     3.8\n",
       "8097     2.1\n",
       "8098     2.2\n",
       "8099     3.1\n",
       "8100     4.8\n",
       "8101     4.1\n",
       "8102     4.0\n",
       "8103     3.7\n",
       "8104     3.0\n",
       "8105     3.2\n",
       "8106     3.2\n",
       "8107     3.0\n",
       "8108     2.9\n",
       "8109     2.9\n",
       "8110     2.9\n",
       "8111     1.9\n",
       "8112     1.8\n",
       "8113     1.9\n",
       "8114     1.9\n",
       "8115     1.8\n",
       "8116     1.7\n",
       "        ... \n",
       "16817    1.3\n",
       "16818    1.8\n",
       "16819    2.1\n",
       "16820    1.8\n",
       "16821    2.4\n",
       "16822    2.2\n",
       "16823    2.2\n",
       "16824    2.9\n",
       "16825    3.0\n",
       "16826    2.7\n",
       "16827    3.0\n",
       "16828    2.0\n",
       "16829    1.9\n",
       "16830    2.1\n",
       "16831    1.9\n",
       "16832    1.5\n",
       "16833    1.1\n",
       "16834    1.1\n",
       "16835    1.2\n",
       "16836    1.5\n",
       "16837    2.1\n",
       "16838    1.1\n",
       "16839    0.7\n",
       "16840   -0.3\n",
       "16841   -0.7\n",
       "16842   -1.3\n",
       "16843   -1.5\n",
       "16844   -1.6\n",
       "16845   -1.4\n",
       "16846   -3.9\n",
       "Name: temp, Length: 8760, dtype: float64"
      ]
     },
     "execution_count": 12,
     "metadata": {},
     "output_type": "execute_result"
    }
   ],
   "source": [
    "df2\n"
   ]
  },
  {
   "cell_type": "code",
   "execution_count": 15,
   "metadata": {},
   "outputs": [
    {
     "data": {
      "text/plain": [
       "0        2009-01-01 00:00:00\n",
       "1        2009-01-01 01:00:00\n",
       "2        2009-01-01 02:00:00\n",
       "3        2009-01-01 03:00:00\n",
       "4        2009-01-01 04:00:00\n",
       "5        2009-01-01 05:00:00\n",
       "6        2009-01-01 06:00:00\n",
       "7        2009-01-01 07:00:00\n",
       "8        2009-01-01 08:00:00\n",
       "9        2009-01-01 09:00:00\n",
       "10       2009-01-01 10:00:00\n",
       "11       2009-01-01 11:00:00\n",
       "12       2009-01-01 12:00:00\n",
       "13       2009-01-01 13:00:00\n",
       "14       2009-01-01 14:00:00\n",
       "15       2009-01-01 15:00:00\n",
       "16       2009-01-01 16:00:00\n",
       "17       2009-01-01 17:00:00\n",
       "18       2009-01-01 18:00:00\n",
       "19       2009-01-01 19:00:00\n",
       "20       2009-01-01 20:00:00\n",
       "21       2009-01-01 21:00:00\n",
       "22       2009-01-01 22:00:00\n",
       "23       2009-01-01 23:00:00\n",
       "24       2009-01-02 00:00:00\n",
       "25       2009-01-02 01:00:00\n",
       "26       2009-01-02 02:00:00\n",
       "27       2009-01-02 03:00:00\n",
       "28       2009-01-02 04:00:00\n",
       "29       2009-01-02 05:00:00\n",
       "                ...         \n",
       "17490                    1.3\n",
       "17491                    1.8\n",
       "17492                    2.1\n",
       "17493                    1.8\n",
       "17494                    2.4\n",
       "17495                    2.2\n",
       "17496                    2.2\n",
       "17497                    2.9\n",
       "17498                      3\n",
       "17499                    2.7\n",
       "17500                      3\n",
       "17501                      2\n",
       "17502                    1.9\n",
       "17503                    2.1\n",
       "17504                    1.9\n",
       "17505                    1.5\n",
       "17506                    1.1\n",
       "17507                    1.1\n",
       "17508                    1.2\n",
       "17509                    1.5\n",
       "17510                    2.1\n",
       "17511                    1.1\n",
       "17512                    0.7\n",
       "17513                   -0.3\n",
       "17514                   -0.7\n",
       "17515                   -1.3\n",
       "17516                   -1.5\n",
       "17517                   -1.6\n",
       "17518                   -1.4\n",
       "17519                   -3.9\n",
       "Length: 17520, dtype: object"
      ]
     },
     "execution_count": 15,
     "metadata": {},
     "output_type": "execute_result"
    }
   ],
   "source": [
    "df1.append(df2, ignore_index=True)"
   ]
  },
  {
   "cell_type": "code",
   "execution_count": null,
   "metadata": {},
   "outputs": [],
   "source": [
    "\n"
   ]
  },
  {
   "cell_type": "code",
   "execution_count": null,
   "metadata": {},
   "outputs": [],
   "source": []
  },
  {
   "cell_type": "code",
   "execution_count": null,
   "metadata": {},
   "outputs": [],
   "source": []
  },
  {
   "cell_type": "code",
   "execution_count": null,
   "metadata": {},
   "outputs": [],
   "source": []
  },
  {
   "cell_type": "code",
   "execution_count": 14,
   "metadata": {},
   "outputs": [
    {
     "ename": "NameError",
     "evalue": "name 'Temperature' is not defined",
     "output_type": "error",
     "traceback": [
      "\u001b[1;31m---------------------------------------------------------------------------\u001b[0m",
      "\u001b[1;31mNameError\u001b[0m                                 Traceback (most recent call last)",
      "\u001b[1;32m<ipython-input-14-a89784cc0f9b>\u001b[0m in \u001b[0;36m<module>\u001b[1;34m()\u001b[0m\n\u001b[0;32m      1\u001b[0m \u001b[1;31m#Temperature = pd.to_numeric(df, errors='coerce')\u001b[0m\u001b[1;33m\u001b[0m\u001b[1;33m\u001b[0m\u001b[0m\n\u001b[1;32m----> 2\u001b[1;33m \u001b[0mTemperature\u001b[0m\u001b[1;33m\u001b[0m\u001b[0m\n\u001b[0m",
      "\u001b[1;31mNameError\u001b[0m: name 'Temperature' is not defined"
     ]
    }
   ],
   "source": []
  },
  {
   "cell_type": "code",
   "execution_count": null,
   "metadata": {},
   "outputs": [],
   "source": []
  },
  {
   "cell_type": "code",
   "execution_count": null,
   "metadata": {},
   "outputs": [],
   "source": []
  },
  {
   "cell_type": "code",
   "execution_count": null,
   "metadata": {},
   "outputs": [],
   "source": []
  },
  {
   "cell_type": "code",
   "execution_count": null,
   "metadata": {},
   "outputs": [],
   "source": []
  },
  {
   "cell_type": "code",
   "execution_count": null,
   "metadata": {},
   "outputs": [],
   "source": []
  },
  {
   "cell_type": "code",
   "execution_count": null,
   "metadata": {},
   "outputs": [],
   "source": []
  },
  {
   "cell_type": "code",
   "execution_count": null,
   "metadata": {},
   "outputs": [],
   "source": [
    "\n",
    "\n",
    "\n"
   ]
  },
  {
   "cell_type": "code",
   "execution_count": null,
   "metadata": {},
   "outputs": [],
   "source": []
  }
 ],
 "metadata": {
  "kernelspec": {
   "display_name": "Python 3",
   "language": "python",
   "name": "python3"
  },
  "language_info": {
   "codemirror_mode": {
    "name": "ipython",
    "version": 3
   },
   "file_extension": ".py",
   "mimetype": "text/x-python",
   "name": "python",
   "nbconvert_exporter": "python",
   "pygments_lexer": "ipython3",
   "version": "3.6.5"
  }
 },
 "nbformat": 4,
 "nbformat_minor": 2
}
